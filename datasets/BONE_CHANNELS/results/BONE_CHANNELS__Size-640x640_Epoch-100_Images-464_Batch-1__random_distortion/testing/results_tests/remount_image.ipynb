{
 "cells": [
  {
   "cell_type": "code",
   "execution_count": 150,
   "metadata": {},
   "outputs": [],
   "source": [
    "import os\n",
    "images_dir = 'C:\\\\Users\\\\Igor\\\\tumor_regions_segmentation\\\\datasets\\\\BONE_CHANNELS\\\\testing\\\\bones\\\\patch\\\\640x640\\\\'\n",
    "images = os.listdir(images_dir)\n",
    "original_images_dir = \"C:\\\\Users\\\\Igor\\\\tumor_regions_segmentation\\\\datasets\\\\BONE_CHANNELS\\\\testing\\\\bones\\\\wsi\\\\\"\n"
   ]
  },
  {
   "cell_type": "code",
   "execution_count": 148,
   "metadata": {},
   "outputs": [],
   "source": [
    "def get_position_by_index(idx):\n",
    "    return (int(idx))*640"
   ]
  },
  {
   "cell_type": "code",
   "execution_count": 141,
   "metadata": {},
   "outputs": [
    {
     "data": {
      "text/plain": [
       "'from PIL import Image\\n\\ny = [\"202\"]\\nimages_dir = \\'./../bones/patch/640x640/\\'\\n\\nfor i in y:\\n    original_image = Image.open(original_images_dir + i + \".png\")\\n\\n    full_new_image = Image.open(original_images_dir + i + \".png\")\\n    sub_images_202 = [x for x in images if x.startswith(i)]\\n\\n    for current_image in sub_images_202:\\n        #current_image = sub_images_202[0]\\n        r = current_image.split(\\'c\\')[0].split(\\'r\\')[1]\\n        c = current_image.split(\\'c\\')[1].split(\\'.\\')[0]\\n        image_202 = Image.open(images_dir + current_image + \"/02-roi/\" + current_image)\\n        full_new_image.paste(image_202, (get_position_by_index(c), get_position_by_index(r)))\\n    \\n    full_new_image.show()'"
      ]
     },
     "execution_count": 141,
     "metadata": {},
     "output_type": "execute_result"
    }
   ],
   "source": [
    "#teste\n",
    "'''from PIL import Image\n",
    "\n",
    "y = [\"202\"]\n",
    "images_dir = './../bones/patch/640x640/'\n",
    "\n",
    "for i in y:\n",
    "    original_image = Image.open(original_images_dir + i + \".png\")\n",
    "\n",
    "    full_new_image = Image.open(original_images_dir + i + \".png\")\n",
    "    sub_images_202 = [x for x in images if x.startswith(i)]\n",
    "\n",
    "    for current_image in sub_images_202:\n",
    "        #current_image = sub_images_202[0]\n",
    "        r = current_image.split('c')[0].split('r')[1]\n",
    "        c = current_image.split('c')[1].split('.')[0]\n",
    "        image_202 = Image.open(images_dir + current_image + \"/02-roi/\" + current_image)\n",
    "        full_new_image.paste(image_202, (get_position_by_index(c), get_position_by_index(r)))\n",
    "    \n",
    "    full_new_image.show()'''"
   ]
  },
  {
   "cell_type": "code",
   "execution_count": 152,
   "metadata": {},
   "outputs": [
    {
     "name": "stderr",
     "output_type": "stream",
     "text": [
      "c:\\Users\\Igor\\anaconda3\\envs\\dali\\lib\\site-packages\\PIL\\Image.py:3167: DecompressionBombWarning: Image size (114490000 pixels) exceeds limit of 89478485 pixels, could be decompression bomb DOS attack.\n",
      "  warnings.warn(\n",
      "c:\\Users\\Igor\\anaconda3\\envs\\dali\\lib\\site-packages\\PIL\\Image.py:3167: DecompressionBombWarning: Image size (105431824 pixels) exceeds limit of 89478485 pixels, could be decompression bomb DOS attack.\n",
      "  warnings.warn(\n",
      "c:\\Users\\Igor\\anaconda3\\envs\\dali\\lib\\site-packages\\PIL\\Image.py:3167: DecompressionBombWarning: Image size (111028369 pixels) exceeds limit of 89478485 pixels, could be decompression bomb DOS attack.\n",
      "  warnings.warn(\n",
      "c:\\Users\\Igor\\anaconda3\\envs\\dali\\lib\\site-packages\\PIL\\Image.py:3167: DecompressionBombWarning: Image size (128097124 pixels) exceeds limit of 89478485 pixels, could be decompression bomb DOS attack.\n",
      "  warnings.warn(\n",
      "c:\\Users\\Igor\\anaconda3\\envs\\dali\\lib\\site-packages\\PIL\\Image.py:3167: DecompressionBombWarning: Image size (137381841 pixels) exceeds limit of 89478485 pixels, could be decompression bomb DOS attack.\n",
      "  warnings.warn(\n",
      "c:\\Users\\Igor\\anaconda3\\envs\\dali\\lib\\site-packages\\PIL\\Image.py:3167: DecompressionBombWarning: Image size (117202276 pixels) exceeds limit of 89478485 pixels, could be decompression bomb DOS attack.\n",
      "  warnings.warn(\n",
      "c:\\Users\\Igor\\anaconda3\\envs\\dali\\lib\\site-packages\\PIL\\Image.py:3167: DecompressionBombWarning: Image size (106502400 pixels) exceeds limit of 89478485 pixels, could be decompression bomb DOS attack.\n",
      "  warnings.warn(\n",
      "c:\\Users\\Igor\\anaconda3\\envs\\dali\\lib\\site-packages\\PIL\\Image.py:3167: DecompressionBombWarning: Image size (105267600 pixels) exceeds limit of 89478485 pixels, could be decompression bomb DOS attack.\n",
      "  warnings.warn(\n",
      "c:\\Users\\Igor\\anaconda3\\envs\\dali\\lib\\site-packages\\PIL\\Image.py:3167: DecompressionBombWarning: Image size (111513600 pixels) exceeds limit of 89478485 pixels, could be decompression bomb DOS attack.\n",
      "  warnings.warn(\n",
      "c:\\Users\\Igor\\anaconda3\\envs\\dali\\lib\\site-packages\\PIL\\Image.py:3167: DecompressionBombWarning: Image size (119946304 pixels) exceeds limit of 89478485 pixels, could be decompression bomb DOS attack.\n",
      "  warnings.warn(\n",
      "c:\\Users\\Igor\\anaconda3\\envs\\dali\\lib\\site-packages\\PIL\\Image.py:3167: DecompressionBombWarning: Image size (118701025 pixels) exceeds limit of 89478485 pixels, could be decompression bomb DOS attack.\n",
      "  warnings.warn(\n"
     ]
    }
   ],
   "source": [
    "from PIL import Image\n",
    "\n",
    "x = [\"202\",\"203\",\"204\",\"301\",\"302\",\"303\",\"304\",\"305\",\"306\",\"310\",\"311\",\"312\",\"313\",\"314\"]\n",
    "\n",
    "for i in x:\n",
    "    full_new_image = Image.open(original_images_dir + i + \".png\")\n",
    "    images = os.listdir(images_dir + i + '\\\\01-roi\\\\03-roi\\\\')\n",
    "    sub_images_202 = [x for x in images if x.startswith(i)]\n",
    "\n",
    "    for current_image in sub_images_202:\n",
    "        #current_image = sub_images_202[0]\n",
    "        r = current_image.split('c')[0].split('r')[1]\n",
    "        c = current_image.split('c')[1].split('.')[0]\n",
    "        image_202 = Image.open(images_dir + i + '\\\\01-roi\\\\03-roi\\\\' + current_image)\n",
    "        full_new_image.paste(image_202, (get_position_by_index(c), get_position_by_index(r)))\n",
    "    \n",
    "    full_new_image.save(images_dir + \"inteiras/\" + str(i) + \".png\") "
   ]
  },
  {
   "cell_type": "code",
   "execution_count": 143,
   "metadata": {},
   "outputs": [
    {
     "data": {
      "text/plain": [
       "'import cv2\\nimport numpy as np\\n\\ny = [\"203\"]\\nfor i in x:\\n    original_image = cv2.imread(original_images_dir + i + \".png\")\\n    full_mask = cv2.imread(images_dir + \"inteiras/\" + str(i) + \".png\")\\n    white = np.where((full_mask[:,:,0]>0))\\n    print(white)\\n    result = np.copy(original_image)\\n    result[white] = [0,255,0]\\n\\n\\n    img = cv2.cvtColor(result, cv2.COLOR_BGR2RGB)\\n    im_pil = Image.fromarray(img)\\n    ##im_pil.show()\\n    im_pil.save(images_dir + \"inteiras/mascaradas1/\" + str(i) + \".png\")'"
      ]
     },
     "execution_count": 143,
     "metadata": {},
     "output_type": "execute_result"
    }
   ],
   "source": [
    "'''import cv2\n",
    "import numpy as np\n",
    "\n",
    "y = [\"203\"]\n",
    "for i in x:\n",
    "    original_image = cv2.imread(original_images_dir + i + \".png\")\n",
    "    full_mask = cv2.imread(images_dir + \"inteiras/\" + str(i) + \".png\")\n",
    "    white = np.where((full_mask[:,:,0]>0))\n",
    "    print(white)\n",
    "    result = np.copy(original_image)\n",
    "    result[white] = [0,255,0]\n",
    "\n",
    "\n",
    "    img = cv2.cvtColor(result, cv2.COLOR_BGR2RGB)\n",
    "    im_pil = Image.fromarray(img)\n",
    "    ##im_pil.show()\n",
    "    im_pil.save(images_dir + \"inteiras/mascaradas1/\" + str(i) + \".png\")'''"
   ]
  }
 ],
 "metadata": {
  "kernelspec": {
   "display_name": "dali",
   "language": "python",
   "name": "python3"
  },
  "language_info": {
   "codemirror_mode": {
    "name": "ipython",
    "version": 3
   },
   "file_extension": ".py",
   "mimetype": "text/x-python",
   "name": "python",
   "nbconvert_exporter": "python",
   "pygments_lexer": "ipython3",
   "version": "3.10.11"
  }
 },
 "nbformat": 4,
 "nbformat_minor": 2
}
