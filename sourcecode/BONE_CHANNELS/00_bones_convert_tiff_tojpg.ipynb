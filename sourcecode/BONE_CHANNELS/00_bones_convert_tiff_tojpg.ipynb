{
 "cells": [
  {
   "attachments": {},
   "cell_type": "markdown",
   "metadata": {},
   "source": [
    "## Converting tiff files to JPG"
   ]
  },
  {
   "cell_type": "code",
   "execution_count": 4,
   "metadata": {},
   "outputs": [
    {
     "name": "stdout",
     "output_type": "stream",
     "text": [
      "file ../../datasets/BONE_CHANNELS/training/labelled_images_jpg/205.jpg already jpg\n",
      "file ../../datasets/BONE_CHANNELS/training/labelled_images_jpg/206.jpg already jpg\n",
      "file ../../datasets/BONE_CHANNELS/training/labelled_images_jpg/207.jpg already jpg\n",
      "file ../../datasets/BONE_CHANNELS/training/labelled_images_jpg/208.jpg already jpg\n",
      "file ../../datasets/BONE_CHANNELS/training/labelled_images_jpg/209.jpg already jpg\n",
      "file ../../datasets/BONE_CHANNELS/training/labelled_images_jpg/210.jpg already jpg\n",
      "file ../../datasets/BONE_CHANNELS/training/labelled_images_jpg/212.jpg already jpg\n",
      "file ../../datasets/BONE_CHANNELS/training/labelled_images_jpg/213.jpg already jpg\n",
      "file ../../datasets/BONE_CHANNELS/training/labelled_images_jpg/214.jpg already jpg\n",
      "file ../../datasets/BONE_CHANNELS/training/labelled_images_jpg/215.jpg already jpg\n",
      "file ../../datasets/BONE_CHANNELS/training/labelled_images_jpg/216.jpg already jpg\n",
      "file ../../datasets/BONE_CHANNELS/training/labelled_images_jpg/217.jpg already jpg\n",
      "file ../../datasets/BONE_CHANNELS/training/labelled_images_jpg/218.jpg already jpg\n",
      "file ../../datasets/BONE_CHANNELS/training/labelled_images_jpg/219.jpg already jpg\n",
      "file ../../datasets/BONE_CHANNELS/training/labelled_images_jpg/220.jpg already jpg\n",
      "file ../../datasets/BONE_CHANNELS/training/labelled_images_jpg/221.jpg already jpg\n",
      "file ../../datasets/BONE_CHANNELS/training/labelled_images_jpg/222.jpg already jpg\n",
      "converting file : ../../datasets/BONE_CHANNELS/training/labelled_images_jpg/301.tif\n",
      "new filename : ../../datasets/BONE_CHANNELS/training/labelled_images_jpg/png/301.png\n",
      "converting file : ../../datasets/BONE_CHANNELS/training/labelled_images_jpg/302.tif\n",
      "new filename : ../../datasets/BONE_CHANNELS/training/labelled_images_jpg/png/302.png\n",
      "converting file : ../../datasets/BONE_CHANNELS/training/labelled_images_jpg/303.tif\n",
      "new filename : ../../datasets/BONE_CHANNELS/training/labelled_images_jpg/png/303.png\n",
      "converting file : ../../datasets/BONE_CHANNELS/training/labelled_images_jpg/304.tif\n",
      "new filename : ../../datasets/BONE_CHANNELS/training/labelled_images_jpg/png/304.png\n",
      "converting file : ../../datasets/BONE_CHANNELS/training/labelled_images_jpg/305.tif\n",
      "new filename : ../../datasets/BONE_CHANNELS/training/labelled_images_jpg/png/305.png\n"
     ]
    },
    {
     "name": "stderr",
     "output_type": "stream",
     "text": [
      "c:\\Users\\Igor\\anaconda3\\envs\\dali\\lib\\site-packages\\PIL\\Image.py:3167: DecompressionBombWarning: Image size (94459539 pixels) exceeds limit of 89478485 pixels, could be decompression bomb DOS attack.\n",
      "  warnings.warn(\n"
     ]
    },
    {
     "name": "stdout",
     "output_type": "stream",
     "text": [
      "converting file : ../../datasets/BONE_CHANNELS/training/labelled_images_jpg/306.tif\n",
      "new filename : ../../datasets/BONE_CHANNELS/training/labelled_images_jpg/png/306.png\n",
      "converting file : ../../datasets/BONE_CHANNELS/training/labelled_images_jpg/310.tif\n",
      "new filename : ../../datasets/BONE_CHANNELS/training/labelled_images_jpg/png/310.png\n",
      "converting file : ../../datasets/BONE_CHANNELS/training/labelled_images_jpg/311.tif\n",
      "new filename : ../../datasets/BONE_CHANNELS/training/labelled_images_jpg/png/311.png\n",
      "converting file : ../../datasets/BONE_CHANNELS/training/labelled_images_jpg/312.tif\n",
      "new filename : ../../datasets/BONE_CHANNELS/training/labelled_images_jpg/png/312.png\n",
      "converting file : ../../datasets/BONE_CHANNELS/training/labelled_images_jpg/313.tif\n",
      "new filename : ../../datasets/BONE_CHANNELS/training/labelled_images_jpg/png/313.png\n"
     ]
    },
    {
     "name": "stderr",
     "output_type": "stream",
     "text": [
      "c:\\Users\\Igor\\anaconda3\\envs\\dali\\lib\\site-packages\\PIL\\Image.py:3167: DecompressionBombWarning: Image size (93092000 pixels) exceeds limit of 89478485 pixels, could be decompression bomb DOS attack.\n",
      "  warnings.warn(\n"
     ]
    },
    {
     "name": "stdout",
     "output_type": "stream",
     "text": [
      "converting file : ../../datasets/BONE_CHANNELS/training/labelled_images_jpg/314.tif\n",
      "new filename : ../../datasets/BONE_CHANNELS/training/labelled_images_jpg/png/314.png\n",
      "converting file : ../../datasets/BONE_CHANNELS/training/labelled_images_jpg/315.tif\n",
      "new filename : ../../datasets/BONE_CHANNELS/training/labelled_images_jpg/png/315.png\n",
      "converting file : ../../datasets/BONE_CHANNELS/training/labelled_images_jpg/316.tif\n",
      "new filename : ../../datasets/BONE_CHANNELS/training/labelled_images_jpg/png/316.png\n",
      "converting file : ../../datasets/BONE_CHANNELS/training/labelled_images_jpg/317.tif\n",
      "new filename : ../../datasets/BONE_CHANNELS/training/labelled_images_jpg/png/317.png\n",
      "converting file : ../../datasets/BONE_CHANNELS/training/labelled_images_jpg/318.tif\n",
      "new filename : ../../datasets/BONE_CHANNELS/training/labelled_images_jpg/png/318.png\n"
     ]
    },
    {
     "name": "stderr",
     "output_type": "stream",
     "text": [
      "c:\\Users\\Igor\\anaconda3\\envs\\dali\\lib\\site-packages\\PIL\\Image.py:3167: DecompressionBombWarning: Image size (90796720 pixels) exceeds limit of 89478485 pixels, could be decompression bomb DOS attack.\n",
      "  warnings.warn(\n"
     ]
    },
    {
     "name": "stdout",
     "output_type": "stream",
     "text": [
      "converting file : ../../datasets/BONE_CHANNELS/training/labelled_images_jpg/319.tif\n",
      "new filename : ../../datasets/BONE_CHANNELS/training/labelled_images_jpg/png/319.png\n",
      "converting file : ../../datasets/BONE_CHANNELS/training/labelled_images_jpg/320.tif\n",
      "new filename : ../../datasets/BONE_CHANNELS/training/labelled_images_jpg/png/320.png\n",
      "converting file : ../../datasets/BONE_CHANNELS/training/labelled_images_jpg/321.tif\n",
      "new filename : ../../datasets/BONE_CHANNELS/training/labelled_images_jpg/png/321.png\n",
      "converting file : ../../datasets/BONE_CHANNELS/training/labelled_images_jpg/322.tif\n",
      "new filename : ../../datasets/BONE_CHANNELS/training/labelled_images_jpg/png/322.png\n",
      "converting file : ../../datasets/BONE_CHANNELS/training/labelled_images_jpg/323.tif\n",
      "new filename : ../../datasets/BONE_CHANNELS/training/labelled_images_jpg/png/323.png\n"
     ]
    },
    {
     "name": "stderr",
     "output_type": "stream",
     "text": [
      "c:\\Users\\Igor\\anaconda3\\envs\\dali\\lib\\site-packages\\PIL\\Image.py:3167: DecompressionBombWarning: Image size (105778908 pixels) exceeds limit of 89478485 pixels, could be decompression bomb DOS attack.\n",
      "  warnings.warn(\n"
     ]
    },
    {
     "name": "stdout",
     "output_type": "stream",
     "text": [
      "converting file : ../../datasets/BONE_CHANNELS/training/labelled_images_jpg/324.tif\n",
      "new filename : ../../datasets/BONE_CHANNELS/training/labelled_images_jpg/png/324.png\n",
      "converting file : ../../datasets/BONE_CHANNELS/training/labelled_images_jpg/325.tif\n",
      "new filename : ../../datasets/BONE_CHANNELS/training/labelled_images_jpg/png/325.png\n",
      "converting file : ../../datasets/BONE_CHANNELS/training/labelled_images_jpg/326.tif\n",
      "new filename : ../../datasets/BONE_CHANNELS/training/labelled_images_jpg/png/326.png\n",
      "converting file : ../../datasets/BONE_CHANNELS/training/labelled_images_jpg/327.tif\n",
      "new filename : ../../datasets/BONE_CHANNELS/training/labelled_images_jpg/png/327.png\n",
      "converting file : ../../datasets/BONE_CHANNELS/training/labelled_images_jpg/328.tif\n",
      "new filename : ../../datasets/BONE_CHANNELS/training/labelled_images_jpg/png/328.png\n",
      "converting file : ../../datasets/BONE_CHANNELS/training/labelled_images_jpg/330.tif\n",
      "new filename : ../../datasets/BONE_CHANNELS/training/labelled_images_jpg/png/330.png\n",
      "file ../../datasets/BONE_CHANNELS/training/labelled_images_jpg/331.jpg already jpg\n",
      "converting file : ../../datasets/BONE_CHANNELS/training/labelled_images_jpg/332.tif\n",
      "new filename : ../../datasets/BONE_CHANNELS/training/labelled_images_jpg/png/332.png\n",
      "file ../../datasets/BONE_CHANNELS/training/labelled_images_jpg/333.jpg already jpg\n",
      "file ../../datasets/BONE_CHANNELS/training/labelled_images_jpg/334.jpg already jpg\n",
      "file ../../datasets/BONE_CHANNELS/training/labelled_images_jpg/335.jpg already jpg\n",
      "file ../../datasets/BONE_CHANNELS/training/labelled_images_jpg/336.jpg already jpg\n",
      "file ../../datasets/BONE_CHANNELS/training/labelled_images_jpg/337.jpg already jpg\n",
      "file ../../datasets/BONE_CHANNELS/training/labelled_images_jpg/338.jpg already jpg\n",
      "file ../../datasets/BONE_CHANNELS/training/labelled_images_jpg/339.jpg already jpg\n",
      "file ../../datasets/BONE_CHANNELS/training/labelled_images_jpg/340.jpg already jpg\n",
      "file ../../datasets/BONE_CHANNELS/training/labelled_images_jpg/342.jpg already jpg\n",
      "file ../../datasets/BONE_CHANNELS/training/labelled_images_jpg/343.jpg already jpg\n",
      "file ../../datasets/BONE_CHANNELS/training/labelled_images_jpg/344.jpg already jpg\n",
      "file ../../datasets/BONE_CHANNELS/training/labelled_images_jpg/345.jpg already jpg\n",
      "file ../../datasets/BONE_CHANNELS/training/labelled_images_jpg/346.jpg already jpg\n",
      "file ../../datasets/BONE_CHANNELS/training/labelled_images_jpg/347.jpg already jpg\n",
      "file ../../datasets/BONE_CHANNELS/training/labelled_images_jpg/348.jpg already jpg\n",
      "file ../../datasets/BONE_CHANNELS/training/labelled_images_jpg/349.jpg already jpg\n",
      "file ../../datasets/BONE_CHANNELS/training/labelled_images_jpg/351.jpg already jpg\n"
     ]
    }
   ],
   "source": [
    "import os, sys\n",
    "from PIL import Image\n",
    "\n",
    "tiff_dir = \"../../datasets/BONE_CHANNELS/training/labelled_images_jpg/\"\n",
    "jpg_dir = tiff_dir + \"png/\"\n",
    "\n",
    "for infile in os.listdir(tiff_dir):\n",
    "    tif_file = tiff_dir + infile\n",
    "    \n",
    "    if tif_file[-3:] == \"tif\" or tif_file[-3:] == \"bmp\" :\n",
    "       print(\"converting file : \" + tif_file)\n",
    "       outfile = jpg_dir + infile[:-3] + \"png\"\n",
    "       im = Image.open(tif_file)\n",
    "       print(\"new filename : \" + outfile)\n",
    "       out = im.convert(\"RGB\")\n",
    "       out.save(outfile, format='png', quality=100)\n",
    "    elif tif_file[-3:] == \"jpg\" or tif_file[-3:] == \"jpeg\":\n",
    "        print(\"file \" + tif_file + \" already jpg\")\n",
    "    else:\n",
    "        continue"
   ]
  }
 ],
 "metadata": {
  "kernelspec": {
   "display_name": "Python 3 (ipykernel)",
   "language": "python",
   "name": "python3"
  },
  "language_info": {
   "codemirror_mode": {
    "name": "ipython",
    "version": 3
   },
   "file_extension": ".py",
   "mimetype": "text/x-python",
   "name": "python",
   "nbconvert_exporter": "python",
   "pygments_lexer": "ipython3",
   "version": "3.10.11"
  }
 },
 "nbformat": 4,
 "nbformat_minor": 2
}
