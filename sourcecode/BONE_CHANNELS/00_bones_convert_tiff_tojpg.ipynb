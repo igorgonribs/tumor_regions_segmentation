{
 "cells": [
  {
   "attachments": {},
   "cell_type": "markdown",
   "metadata": {},
   "source": [
    "## Converting tiff files to JPG"
   ]
  },
  {
   "cell_type": "code",
   "execution_count": 3,
   "metadata": {},
   "outputs": [
    {
     "name": "stdout",
     "output_type": "stream",
     "text": [
      "file : ../../datasets/BONE_CHANNELS/training/labelled_images/301.tif\n",
      "new filename : ../../datasets/BONE_CHANNELS/training/labelled_images/png/301.png\n",
      "file : ../../datasets/BONE_CHANNELS/training/labelled_images/302.tif\n",
      "new filename : ../../datasets/BONE_CHANNELS/training/labelled_images/png/302.png\n",
      "file : ../../datasets/BONE_CHANNELS/training/labelled_images/303.tif\n",
      "new filename : ../../datasets/BONE_CHANNELS/training/labelled_images/png/303.png\n",
      "file : ../../datasets/BONE_CHANNELS/training/labelled_images/304.tif\n",
      "new filename : ../../datasets/BONE_CHANNELS/training/labelled_images/png/304.png\n",
      "file : ../../datasets/BONE_CHANNELS/training/labelled_images/305.tif\n"
     ]
    },
    {
     "name": "stderr",
     "output_type": "stream",
     "text": [
      "c:\\Igor\\Anaconda\\envs\\dali\\lib\\site-packages\\PIL\\Image.py:3167: DecompressionBombWarning: Image size (94459539 pixels) exceeds limit of 89478485 pixels, could be decompression bomb DOS attack.\n",
      "  warnings.warn(\n"
     ]
    },
    {
     "name": "stdout",
     "output_type": "stream",
     "text": [
      "new filename : ../../datasets/BONE_CHANNELS/training/labelled_images/png/305.png\n",
      "file : ../../datasets/BONE_CHANNELS/training/labelled_images/306.tif\n",
      "new filename : ../../datasets/BONE_CHANNELS/training/labelled_images/png/306.png\n",
      "file : ../../datasets/BONE_CHANNELS/training/labelled_images/310.tif\n",
      "new filename : ../../datasets/BONE_CHANNELS/training/labelled_images/png/310.png\n",
      "file : ../../datasets/BONE_CHANNELS/training/labelled_images/311.tif\n",
      "new filename : ../../datasets/BONE_CHANNELS/training/labelled_images/png/311.png\n",
      "file : ../../datasets/BONE_CHANNELS/training/labelled_images/312.tif\n",
      "new filename : ../../datasets/BONE_CHANNELS/training/labelled_images/png/312.png\n",
      "file : ../../datasets/BONE_CHANNELS/training/labelled_images/png\n"
     ]
    }
   ],
   "source": [
    "import os, sys\n",
    "from PIL import Image\n",
    "\n",
    "tiff_dir = \"../../datasets/BONE_CHANNELS/training/labelled_images/\"\n",
    "jpg_dir = tiff_dir + \"png/\"\n",
    "\n",
    "for infile in os.listdir(tiff_dir):\n",
    "    tif_file = tiff_dir + infile\n",
    "    print(\"file : \" + tif_file)\n",
    "    if tif_file[-3:] == \"tif\" or tif_file[-3:] == \"bmp\" :\n",
    "       outfile = jpg_dir + infile[:-3] + \"png\"\n",
    "       im = Image.open(tif_file)\n",
    "       print(\"new filename : \" + outfile)\n",
    "       out = im.convert(\"RGB\")\n",
    "       out.save(outfile, format='png', quality=100)"
   ]
  }
 ],
 "metadata": {
  "kernelspec": {
   "display_name": "Python 3 (ipykernel)",
   "language": "python",
   "name": "python3"
  },
  "language_info": {
   "codemirror_mode": {
    "name": "ipython",
    "version": 3
   },
   "file_extension": ".py",
   "mimetype": "text/x-python",
   "name": "python",
   "nbconvert_exporter": "python",
   "pygments_lexer": "ipython3",
   "version": "3.10.11"
  }
 },
 "nbformat": 4,
 "nbformat_minor": 2
}
