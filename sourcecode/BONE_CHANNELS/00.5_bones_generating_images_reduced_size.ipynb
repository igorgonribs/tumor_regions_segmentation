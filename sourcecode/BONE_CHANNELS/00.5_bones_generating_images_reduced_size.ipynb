{
 "cells": [
  {
   "attachments": {},
   "cell_type": "markdown",
   "metadata": {},
   "source": [
    "## Generating testing images 1024x1024"
   ]
  },
  {
   "cell_type": "code",
   "execution_count": 9,
   "metadata": {},
   "outputs": [
    {
     "name": "stdout",
     "output_type": "stream",
     "text": [
      "openning image ../../datasets/BONE_CHANNELS/training/wsi/301.jpg\n",
      "saving resized image ../../datasets/BONE_CHANNELS_reduced_size/training/wsi/301.png\n",
      "openning image ../../datasets/BONE_CHANNELS/training/wsi/302.jpg\n",
      "saving resized image ../../datasets/BONE_CHANNELS_reduced_size/training/wsi/302.png\n",
      "openning image ../../datasets/BONE_CHANNELS/training/wsi/305.jpg\n",
      "saving resized image ../../datasets/BONE_CHANNELS_reduced_size/training/wsi/305.png\n",
      "openning image ../../datasets/BONE_CHANNELS/training/wsi/306.jpg\n",
      "saving resized image ../../datasets/BONE_CHANNELS_reduced_size/training/wsi/306.png\n",
      "openning image ../../datasets/BONE_CHANNELS/training/wsi/310.jpg\n",
      "saving resized image ../../datasets/BONE_CHANNELS_reduced_size/training/wsi/310.png\n",
      "openning image ../../datasets/BONE_CHANNELS/training/wsi/311.jpg\n",
      "saving resized image ../../datasets/BONE_CHANNELS_reduced_size/training/wsi/311.png\n",
      "openning image ../../datasets/BONE_CHANNELS/training/wsi/312.jpg\n",
      "saving resized image ../../datasets/BONE_CHANNELS_reduced_size/training/wsi/312.png\n"
     ]
    }
   ],
   "source": [
    "import os\n",
    "from PIL import Image\n",
    "\n",
    "def resize_to(original_images_dir, resized_images_dir, dimensions):\n",
    "    for infile in os.listdir(original_images_dir):\n",
    "        original_image = original_images_dir + infile\n",
    "        print(\"openning image \" + original_image)\n",
    "        img = Image.open(original_image)\n",
    "        img_resized = img.resize(dimensions)\n",
    "        \n",
    "        resized_file = resized_images_dir + infile.split('.')[0] + '.png'\n",
    "        print(\"saving resized image \" + resized_file)\n",
    "        img_resized.save(resized_file, format='png')\n",
    "\n",
    "original_images_dir = \"../../datasets/BONE_CHANNELS/training/wsi/\"\n",
    "resized_images_dir = \"../../datasets/BONE_CHANNELS_reduced_size/training/wsi/\"\n",
    "resize_to(original_images_dir, resized_images_dir, (512, 512))"
   ]
  },
  {
   "cell_type": "code",
   "execution_count": 10,
   "metadata": {},
   "outputs": [
    {
     "name": "stdout",
     "output_type": "stream",
     "text": [
      "openning image ../../datasets/BONE_CHANNELS/training/labelled_images/png/301.png\n",
      "saving resized image ../../datasets/BONE_CHANNELS_reduced_size/training/labelled_images/301.png\n",
      "openning image ../../datasets/BONE_CHANNELS/training/labelled_images/png/302.png\n",
      "saving resized image ../../datasets/BONE_CHANNELS_reduced_size/training/labelled_images/302.png\n",
      "openning image ../../datasets/BONE_CHANNELS/training/labelled_images/png/305.png\n",
      "saving resized image ../../datasets/BONE_CHANNELS_reduced_size/training/labelled_images/305.png\n",
      "openning image ../../datasets/BONE_CHANNELS/training/labelled_images/png/306.png\n",
      "saving resized image ../../datasets/BONE_CHANNELS_reduced_size/training/labelled_images/306.png\n",
      "openning image ../../datasets/BONE_CHANNELS/training/labelled_images/png/310.png\n",
      "saving resized image ../../datasets/BONE_CHANNELS_reduced_size/training/labelled_images/310.png\n",
      "openning image ../../datasets/BONE_CHANNELS/training/labelled_images/png/311.png\n",
      "saving resized image ../../datasets/BONE_CHANNELS_reduced_size/training/labelled_images/311.png\n",
      "openning image ../../datasets/BONE_CHANNELS/training/labelled_images/png/312.png\n",
      "saving resized image ../../datasets/BONE_CHANNELS_reduced_size/training/labelled_images/312.png\n"
     ]
    }
   ],
   "source": [
    "original_images_dir = \"../../datasets/BONE_CHANNELS/training/labelled_images/png/\"\n",
    "resized_images_dir = \"../../datasets/BONE_CHANNELS_reduced_size/training/labelled_images/\"\n",
    "resize_to(original_images_dir, resized_images_dir, (512, 512))"
   ]
  }
 ],
 "metadata": {
  "kernelspec": {
   "display_name": "dali",
   "language": "python",
   "name": "python3"
  },
  "language_info": {
   "codemirror_mode": {
    "name": "ipython",
    "version": 3
   },
   "file_extension": ".py",
   "mimetype": "text/x-python",
   "name": "python",
   "nbconvert_exporter": "python",
   "pygments_lexer": "ipython3",
   "version": "3.10.11"
  },
  "orig_nbformat": 4
 },
 "nbformat": 4,
 "nbformat_minor": 2
}
